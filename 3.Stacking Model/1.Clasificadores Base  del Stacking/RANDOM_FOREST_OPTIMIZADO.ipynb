{
 "cells": [
  {
   "cell_type": "code",
   "execution_count": 1,
   "id": "e5caa05e-f969-4876-9970-9092794b25f4",
   "metadata": {},
   "outputs": [
    {
     "name": "stdout",
     "output_type": "stream",
     "text": [
      "Fitting 5 folds for each of 972 candidates, totalling 4860 fits\n",
      "Mejores parámetros encontrados:\n",
      "{'bootstrap': False, 'criterion': 'gini', 'max_depth': 50, 'max_features': 'log2', 'min_samples_leaf': 1, 'min_samples_split': 6, 'n_estimators': 100}\n",
      "Mejor score encontrado: 0.964512494345507\n",
      "\n",
      "Precisión del modelo: 94.40%\n",
      "Exactitud del modelo: 94.07%\n",
      "Recall del modelo: 93.55%\n",
      "F1-score del modelo: 93.89%\n",
      "\n"
     ]
    },
    {
     "data": {
      "image/png": "[encoded data removed]",
      "text/plain": [
       "<Figure size 800x600 with 2 Axes>"
      ]
     },
     "metadata": {},
     "output_type": "display_data"
    }
   ],
   "source": [
    "import numpy as np\n",
    "from sklearn.tree import DecisionTreeClassifier\n",
    "from sklearn.ensemble import RandomForestClassifier\n",
    "from sklearn.metrics import accuracy_score, precision_score, recall_score, f1_score\n",
    "from sklearn.model_selection import train_test_split, GridSearchCV\n",
    "import matplotlib.pyplot as plt\n",
    "import seaborn as sns\n",
    "import pandas as pd\n",
    "from sklearn.metrics import confusion_matrix\n",
    "import os\n",
    "# Obtener la ruta del directorio actual\n",
    "ruta_actual = os.getcwd()\n",
    "# Concatenar el nombre del archivo al final de la ruta actual\n",
    "archivo = os.path.join(ruta_actual, 'Balanced_Data_Set.xlsx')\n",
    "# Cargar datos\n",
    "df = pd.read_excel(archivo)\n",
    "\n",
    "# División de datos en características (X) y etiquetas (y)\n",
    "X = df.drop('CONDUCTA', axis=1)\n",
    "y = df['CONDUCTA']\n",
    "# Dividir los datos en conjuntos de entrenamiento y prueba\n",
    "X_train, X_test, y_train, y_test = train_test_split(X, y, test_size=0.2, random_state=42)\n",
    "\n",
    "# Definir los hiperparámetros para la optimización\n",
    "param_grid = {\n",
    "    'min_samples_split': [2, 4, 6],\n",
    "    'min_samples_leaf': [1, 2, 4],\n",
    "    'max_features': [0.25, 'sqrt', 'log2'],  # Sin comillas alrededor de los valores numéricos\n",
    "    'bootstrap': [True, False],  # Sin comillas alrededor de True y False\n",
    "    'n_estimators': [20, 50, 100],\n",
    "    'max_depth': [5, 20, 50],\n",
    "    'criterion': ['gini', 'entropy']\n",
    "}\n",
    "\n",
    "# Inicializar el RandomForest\n",
    "rf = RandomForestClassifier(random_state=42)\n",
    "\n",
    "# Configurar la búsqueda de hiperparámetros\n",
    "grid_search = GridSearchCV(estimator=rf, param_grid=param_grid, cv=5, scoring='precision', verbose=2, n_jobs=-1)\n",
    "\n",
    "# Entrenar el modelo\n",
    "grid_search.fit(X_train, y_train)\n",
    "\n",
    "# Obtener los mejores parámetros y el mejor score\n",
    "best_params = grid_search.best_params_\n",
    "best_score = grid_search.best_score_\n",
    "\n",
    "print(\"Mejores parámetros encontrados:\")\n",
    "print(best_params)\n",
    "print(\"Mejor score encontrado:\", best_score)\n",
    "\n",
    "# Realizar predicciones con el mejor modelo\n",
    "best_model = grid_search.best_estimator_\n",
    "y_pred = best_model.predict(X_test)\n",
    "\n",
    "# Calcular métricas\n",
    "accuracy = accuracy_score(y_test, y_pred)\n",
    "precision = precision_score(y_test, y_pred, average='macro')\n",
    "recall = recall_score(y_test, y_pred, average='macro')\n",
    "f1 = f1_score(y_test, y_pred, average='macro')\n",
    "\n",
    "# Mostrar métricas\n",
    "print(f'\\nPrecisión del modelo: {precision * 100:.2f}%')\n",
    "print(f'Exactitud del modelo: {accuracy * 100:.2f}%')\n",
    "print(f'Recall del modelo: {recall * 100:.2f}%')\n",
    "print(f'F1-score del modelo: {f1 * 100:.2f}%\\n')\n",
    "\n",
    "# Calcular la matriz de confusión\n",
    "conf_matrix = confusion_matrix(y_test, y_pred)\n",
    "\n",
    "# Visualizar la matriz de confusión\n",
    "plt.figure(figsize=(8, 6))\n",
    "sns.heatmap(conf_matrix, annot=True, fmt='d', cmap='Blues', xticklabels=np.unique(y), yticklabels=np.unique(y))\n",
    "plt.xlabel('Predicted labels')\n",
    "plt.ylabel('True labels')\n",
    "plt.title('Confusion Matrix')\n",
    "plt.show()\n"
   ]
  },
  {
   "cell_type": "code",
   "execution_count": null,
   "id": "e63127f8-1bb5-4bdc-bfbf-4bcb119de06e",
   "metadata": {},
   "outputs": [],
   "source": []
  }
 ],
 "metadata": {
  "kernelspec": {
   "display_name": "Python 3 (ipykernel)",
   "language": "python",
   "name": "python3"
  },
  "language_info": {
   "codemirror_mode": {
    "name": "ipython",
    "version": 3
   },
   "file_extension": ".py",
   "mimetype": "text/x-python",
   "name": "python",
   "nbconvert_exporter": "python",
   "pygments_lexer": "ipython3",
   "version": "3.12.2"
  }
 },
 "nbformat": 4,
 "nbformat_minor": 5
}
