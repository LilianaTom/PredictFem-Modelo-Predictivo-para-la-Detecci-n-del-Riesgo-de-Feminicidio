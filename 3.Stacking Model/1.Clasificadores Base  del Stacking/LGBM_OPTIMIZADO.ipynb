{
 "cells": [
  {
   "cell_type": "code",
   "execution_count": 5,
   "id": "4ef68b34-bf11-4be7-b8bc-3837f5e00f3f",
   "metadata": {},
   "outputs": [
    {
     "name": "stdout",
     "output_type": "stream",
     "text": [
      "Fitting 3 folds for each of 2187 candidates, totalling 6561 fits\n",
      "[LightGBM] [Warning] feature_fraction is set=0.6, colsample_bytree=1.0 will be ignored. Current value: feature_fraction=0.6\n",
      "[LightGBM] [Warning] feature_fraction is set=0.6, colsample_bytree=1.0 will be ignored. Current value: feature_fraction=0.6\n",
      "[LightGBM] [Info] Number of positive: 906, number of negative: 1115\n",
      "[LightGBM] [Info] Auto-choosing col-wise multi-threading, the overhead of testing was 0.000475 seconds.\n",
      "You can set `force_col_wise=true` to remove the overhead.\n",
      "[LightGBM] [Info] Total Bins 559\n",
      "[LightGBM] [Info] Number of data points in the train set: 2021, number of used features: 32\n",
      "[LightGBM] [Info] [binary:BoostFromScore]: pavg=0.448293 -> initscore=-0.207570\n",
      "[LightGBM] [Info] Start training from score -0.207570\n",
      "Mejores hiperparámetros encontrados: {'feature_fraction': 0.6, 'learning_rate': 0.01, 'max_depth': 20, 'min_child_samples': 10, 'n_estimators': 20, 'num_leaves': 40, 'subsample': 0.8}\n",
      "Mejor score encontrado: 0.9785849336459798\n",
      "[LightGBM] [Warning] feature_fraction is set=0.6, colsample_bytree=1.0 will be ignored. Current value: feature_fraction=0.6\n",
      "\n",
      "Precisión del modelo: 90.45%\n",
      "Exactitud del modelo: 89.13%\n",
      "Recall del modelo: 89.13%\n",
      "F1-score del modelo: 88.86%\n"
     ]
    },
    {
     "data": {
      "image/png": "[encoded data removed]",
      "text/plain": [
       "<Figure size 800x600 with 2 Axes>"
      ]
     },
     "metadata": {},
     "output_type": "display_data"
    }
   ],
   "source": [
    "import pandas as pd\n",
    "from sklearn.model_selection import GridSearchCV\n",
    "from sklearn.metrics import accuracy_score, precision_score, recall_score, f1_score, confusion_matrix\n",
    "import matplotlib.pyplot as plt\n",
    "import seaborn as sns\n",
    "from sklearn.model_selection import train_test_split\n",
    "import pandas as pd\n",
    "from lightgbm import LGBMClassifier\n",
    "\n",
    "\n",
    "#Construcción del modelo\n",
    "df = pd.read_excel(\"C:\\\\Users\\\\klgt1\\\\Downloads\\\\dataset_BALANCEADO.xlsx\")\n",
    "\n",
    "# Dividir los datos en características (X) y etiquetas (y)\n",
    "X = df.drop('CONDUCTA', axis=1)\n",
    "y = df['CONDUCTA']\n",
    "\n",
    "# Dividir los datos en entrenamiento y prueba\n",
    "X_train, X_test, y_train, y_test = train_test_split(X, y, test_size=0.2, random_state=42)\n",
    "\n",
    "# Definir la grilla de hiperparámetros a buscar\n",
    "param_grid = {\n",
    "    'learning_rate': [0.01, 0.1, 0.3],\n",
    "    'n_estimators': [20, 50, 100],\n",
    "    'num_leaves': [20, 31, 40],\n",
    "    'max_depth': [5, 20, 50],\n",
    "    'subsample': [0.8, 0.9, 1.0],\n",
    "    'feature_fraction': [0.6, 0.7, 0.8],\n",
    "    'min_child_samples': [10, 20, 30]\n",
    "}\n",
    "\n",
    "# Inicializar el modelo LGBMClassifier\n",
    "lgbm_model = LGBMClassifier()\n",
    "\n",
    "# Realizar la búsqueda exhaustiva de hiperparámetros\n",
    "grid_search = GridSearchCV(estimator=lgbm_model, param_grid=param_grid, cv=3, scoring='precision', verbose=2, n_jobs=-1)\n",
    "grid_search.fit(X_train, y_train)\n",
    "\n",
    "# Obtener los mejores hiperparámetros encontrados\n",
    "best_params = grid_search.best_params_\n",
    "print(\"Mejores hiperparámetros encontrados:\", best_params)\n",
    "\n",
    "best_score = grid_search.best_score_\n",
    "print(\"Mejor score encontrado:\", best_score)\n",
    "\n",
    "# Utilizar el mejor modelo encontrado\n",
    "best_lgbm_model = grid_search.best_estimator_\n",
    "\n",
    "# Predecir en el conjunto de prueba\n",
    "y_pred = best_lgbm_model.predict(X_test)\n",
    "\n",
    "# Calcular las métricas de evaluación\n",
    "accuracy = accuracy_score(y_test, y_pred)\n",
    "precision = precision_score(y_test, y_pred, average='weighted')\n",
    "recall = recall_score(y_test, y_pred, average='weighted')\n",
    "f1 = f1_score(y_test, y_pred, average='weighted')\n",
    "\n",
    "print(f'\\nPrecisión del modelo: {precision * 100:.2f}%')\n",
    "print(f'Exactitud del modelo: {accuracy * 100:.2f}%')\n",
    "print(f'Recall del modelo: {recall * 100:.2f}%')\n",
    "print(f'F1-score del modelo: {f1 * 100:.2f}%')\n",
    "\n",
    "# Construir la matriz de confusión\n",
    "conf_matrix = confusion_matrix(y_test, y_pred)\n",
    "\n",
    "# Visualizar la matriz de confusión utilizando seaborn\n",
    "plt.figure(figsize=(8, 6))\n",
    "sns.heatmap(conf_matrix, annot=True, fmt='d', cmap='Blues', cbar=True,\n",
    "            xticklabels=best_lgbm_model.classes_, yticklabels=best_lgbm_model.classes_)\n",
    "plt.title('Matriz de Confusión')\n",
    "plt.xlabel('Predicción')\n",
    "plt.ylabel('Etiqueta Real')\n",
    "plt.show()"
   ]
  },
  {
   "cell_type": "code",
   "execution_count": null,
   "id": "4dee76e3-0378-4c01-8b7f-cbc0edfee8d1",
   "metadata": {},
   "outputs": [],
   "source": []
  }
 ],
 "metadata": {
  "kernelspec": {
   "display_name": "Python 3 (ipykernel)",
   "language": "python",
   "name": "python3"
  },
  "language_info": {
   "codemirror_mode": {
    "name": "ipython",
    "version": 3
   },
   "file_extension": ".py",
   "mimetype": "text/x-python",
   "name": "python",
   "nbconvert_exporter": "python",
   "pygments_lexer": "ipython3",
   "version": "3.12.2"
  }
 },
 "nbformat": 4,
 "nbformat_minor": 5
}
